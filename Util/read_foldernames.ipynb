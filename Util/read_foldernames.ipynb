{
 "cells": [
  {
   "cell_type": "code",
   "execution_count": 8,
   "metadata": {},
   "outputs": [],
   "source": [
    "import os\n",
    "import pandas as pd\n",
    "\n",
    "folder_list = os.listdir(r'K:\\Scott_CT_Data')\n",
    "ku_ids = ['KU'+str(i+1).zfill(5) for i in range(len(folder_list))]\n",
    "mrns = [folder.split('_')[0] for folder in folder_list]\n",
    "dates = [folder.split('_')[1] for folder in folder_list]\n",
    "\n",
    "df = pd.DataFrame(zip(ku_ids, mrns, dates), columns=['id','mrn', 'ct_date'])\n",
    "df.to_csv('output/temp.csv', index=False)"
   ]
  }
 ],
 "metadata": {
  "kernelspec": {
   "display_name": "Python 3.9.6 64-bit ('venv': venv)",
   "language": "python",
   "name": "python3"
  },
  "language_info": {
   "codemirror_mode": {
    "name": "ipython",
    "version": 3
   },
   "file_extension": ".py",
   "mimetype": "text/x-python",
   "name": "python",
   "nbconvert_exporter": "python",
   "pygments_lexer": "ipython3",
   "version": "3.9.6"
  },
  "orig_nbformat": 4,
  "vscode": {
   "interpreter": {
    "hash": "3c7a2a136e9d0a5a872b2f6826f94ff80995ea8acc48053ad65bcca6aedc86bc"
   }
  }
 },
 "nbformat": 4,
 "nbformat_minor": 2
}
