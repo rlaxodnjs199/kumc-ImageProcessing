{
 "cells": [
  {
   "cell_type": "code",
   "execution_count": 2,
   "metadata": {},
   "outputs": [
    {
     "name": "stdout",
     "output_type": "stream",
     "text": [
      "     Proj     Subj  VidaCaseID VidaBy  MRN VidaImport    Progress    ScanDate  \\\n",
      "0     BTR  DL40001           7    IKL  NaN        NaN        Done  20200128.0   \n",
      "1     BTR  DL40001           8    IKL  NaN        NaN        Fail  20200128.0   \n",
      "2  SSCILD  KU33001           9    IKL  NaN        NaN  Case ID 10  20191205.0   \n",
      "3  SSCILD  KU33001          10    IKL  NaN        NaN        Done  20191205.0   \n",
      "4  SSCILD  KU33001          11    IKL  NaN        NaN        Fail  20200520.0   \n",
      "\n",
      "  IN/EX CT Protocol  ... Unnamed: 31  Unnamed: 32 Unnamed: 33 Unnamed: 34  \\\n",
      "0    IN         NaN  ...         NaN          NaN         NaN         NaN   \n",
      "1    IN         NaN  ...         NaN          NaN         NaN         NaN   \n",
      "2    IN         NaN  ...         NaN          NaN         NaN         NaN   \n",
      "3    IN         NaN  ...         NaN          NaN         NaN         NaN   \n",
      "4    IN         NaN  ...         NaN          NaN         NaN         NaN   \n",
      "\n",
      "  Unnamed: 35 Unnamed: 36 Unnamed: 37 Unnamed: 38  Unnamed: 39  Unnamed: 40  \n",
      "0         NaN         NaN         NaN         NaN          NaN          NaN  \n",
      "1         NaN         NaN         NaN         NaN          NaN          NaN  \n",
      "2         NaN         NaN         NaN         NaN          NaN          NaN  \n",
      "3         NaN         NaN         NaN         NaN          NaN          NaN  \n",
      "4         NaN         NaN         NaN         NaN          NaN          NaN  \n",
      "\n",
      "[5 rows x 41 columns]\n"
     ]
    }
   ],
   "source": [
    "XLSX_PATH = r\"E:\\common\\Taewon\\oneDrive\\OneDrive - University of Kansas Medical Center\\VidaSheet.xlsx\"\n",
    "\n",
    "import pandas as pd\n",
    "\n",
    "df = pd.read_excel(XLSX_PATH)\n",
    "print(df.head())"
   ]
  },
  {
   "cell_type": "code",
   "execution_count": 3,
   "metadata": {},
   "outputs": [
    {
     "name": "stdout",
     "output_type": "stream",
     "text": [
      "['BTR' 'SSCILD' 'C19' 'LCPAKB' 'SARP' 'PRECISE' 'GALA' 'LCP' 'PJNCT' 'ILD']\n",
      "{'BTR': [7, 2424, 2425], 'SSCILD': [10, 2262, 2263, 2264, 2265, 2266], 'C19': [26, 29, 31, 33, 34, 35, 68, 69, 78, 79, 81, 88, 90, 92, 960, 961, 962, 964, 966, 968, 973, 976, 979, 983, 990, 991, 999, 1000, 1001, 1002, 1003, 1004, 1005, 1006, 1007, 1008, 1009, 1010, 1013, 1014, 1015, 1018, 1020, 1025, 1027, 1033, 1034, 1035, 1038, 1039, 1041, 1042, 1043, 1045, 1047, 1048, 1049, 1051, 1053, 1054, 1058, 1059, 1061, 1063, 1064, 1066, 1069, 1072, 1074, 1075, 1088, 1091, 1093, 1094, 1095, 1098, 1101, 1104, 1108, 1109, 1111, 1115, 1116, 1125, 1132, 1146, 1147, 1148, 1149, 1153, 1160, 1163, 1165, 1169, 1173, 1177, 1186, 1189, 1191, 1192, 1201, 1202, 1203, 1204, 1209, 1210, 1213, 1215, 1217, 1219, 1220, 1221, 1228, 1232, 1233, 1237, 1251, 1252, 1253, 1254, 1256, 1260, 1262, 1266, 1267, 1277, 1278, 1281, 1283, 1284, 1286, 1287, 1288, 1290, 1291, 1299, 1302, 1315, 1318, 1322, 1324, 1325, 1328, 1333, 1334, 1335, 1336, 1341, 1342, 1344, 1357, 1358, 1359, 1360, 1361, 1365, 1366, 1367, 1369, 1378, 1384, 1387, 1390, 1393, 1395, 1396, 2334, 2335, 2336, 2337, 2338, 2339, 2340, 2341, 2406, 2407, 2408, 2409, 2410, 2411, 2426, 2427, 2428, 2429, 2434], 'LCPAKB': [70, 71, 72, 73, 74, 75, 76, 77], 'SARP': [1402, 1416, 2296, 2297, 2298, 2299, 2300, 2301, 2304, 2305], 'PRECISE': [1704, 1705, 1717, 1718, 2256, 2257, 2271, 2272], 'GALA': [1709, 1710, 1711, 1712, 1713, 1714, 1715, 1716, 1719, 1720, 2254, 2255, 2267, 2268, 2269, 2270, 2273, 2274, 2285], 'LCP': [2275, 2276, 2277, 2278, 2279, 2280, 2281, 2282, 2283], 'PJNCT': [2293], 'ILD': [2314, 2315, 2318, 2342, 2343, 2344, 2345, 2346, 2347, 2348, 2349, 2350, 2351, 2352, 2353, 2354, 2355, 2356, 2357, 2358, 2359, 2360, 2361, 2362, 2364, 2366, 2367, 2368, 2369, 2370, 2371, 2373, 2374, 2375, 2376, 2377, 2378, 2379, 2380, 2381, 2382, 2383, 2384, 2385, 2386, 2387, 2388, 2389, 2390, 2391]}\n"
     ]
    }
   ],
   "source": [
    "done_df = df[df.Progress == 'Done']\n",
    "\n",
    "proj_list = done_df.Proj.unique()\n",
    "print(proj_list)\n",
    "\n",
    "case_dict = {}\n",
    "\n",
    "for proj in proj_list:\n",
    "    proj_done_df = done_df[done_df.Proj == proj]\n",
    "    proj_done_case_list = proj_done_df.VidaCaseID.to_list()\n",
    "    case_dict[proj] = proj_done_case_list\n",
    "\n",
    "print(case_dict)"
   ]
  },
  {
   "cell_type": "code",
   "execution_count": 4,
   "metadata": {},
   "outputs": [
    {
     "name": "stdout",
     "output_type": "stream",
     "text": [
      "  SliceThickness_mm  count\n",
      "0          [0, 1.0]    143\n",
      "1        (1.0, 1.5]     95\n",
      "2        (1.5, 2.0]     51\n",
      "3        (2.0, inf]      8\n"
     ]
    }
   ],
   "source": [
    "import numpy as np\n",
    "\n",
    "bins = [-1, 1.0, 1.5, 2.0, np.inf]\n",
    "labels = ['[0, 1.0]', '(1.0, 1.5]', '(1.5, 2.0]', '(2.0, inf]']\n",
    "\n",
    "range_df = done_df.groupby(pd.cut(done_df.SliceThickness_mm, bins=bins, labels=labels)).size().reset_index(name='count')\n",
    "\n",
    "print(range_df)"
   ]
  },
  {
   "cell_type": "code",
   "execution_count": 5,
   "metadata": {},
   "outputs": [
    {
     "name": "stdout",
     "output_type": "stream",
     "text": [
      "['B75f' 'I30f' 'STANDARD' 'I31f' 'CHST' 'B' 'I70f' nan 'I40f' 'I50f'\n",
      " 'BONE' 'B60f' 'B35f' 'LUNG' 'B30s' 'B20f' 'Q30f' 'B40f']\n"
     ]
    },
    {
     "data": {
      "text/plain": [
       "CHST        81\n",
       "B35f        31\n",
       "I50f        29\n",
       "I30f        25\n",
       "I40f        25\n",
       "B40f        23\n",
       "STANDARD    22\n",
       "I70f        14\n",
       "Q30f        14\n",
       "B60f         8\n",
       "B            8\n",
       "BONE         5\n",
       "I31f         3\n",
       "LUNG         3\n",
       "B20f         1\n",
       "B75f         1\n",
       "B30s         1\n",
       "Name: Kernel, dtype: int64"
      ]
     },
     "execution_count": 5,
     "metadata": {},
     "output_type": "execute_result"
    }
   ],
   "source": [
    "print(done_df.Kernel.unique())\n",
    "\n",
    "done_df.Kernel.value_counts()"
   ]
  }
 ],
 "metadata": {
  "kernelspec": {
   "display_name": "Python 3.9.6 64-bit ('venv': venv)",
   "language": "python",
   "name": "python3"
  },
  "language_info": {
   "codemirror_mode": {
    "name": "ipython",
    "version": 3
   },
   "file_extension": ".py",
   "mimetype": "text/x-python",
   "name": "python",
   "nbconvert_exporter": "python",
   "pygments_lexer": "ipython3",
   "version": "3.9.6"
  },
  "orig_nbformat": 4,
  "vscode": {
   "interpreter": {
    "hash": "3c7a2a136e9d0a5a872b2f6826f94ff80995ea8acc48053ad65bcca6aedc86bc"
   }
  }
 },
 "nbformat": 4,
 "nbformat_minor": 2
}
