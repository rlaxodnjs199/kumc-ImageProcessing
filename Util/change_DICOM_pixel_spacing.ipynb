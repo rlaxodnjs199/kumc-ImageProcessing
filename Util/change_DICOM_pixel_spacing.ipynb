{
 "cells": [
  {
   "cell_type": "code",
   "execution_count": 22,
   "metadata": {},
   "outputs": [
    {
     "name": "stdout",
     "output_type": "stream",
     "text": [
      "[-188.1318359375, -334.6318359375, -15.5]\n",
      "15.5\n",
      "[-188.1318359375, -334.6318359375, -16.5]\n",
      "16.5\n",
      "[-188.1318359375, -334.6318359375, -25.5]\n",
      "25.5\n",
      "[-188.1318359375, -334.6318359375, -26.5]\n",
      "26.5\n",
      "[-188.1318359375, -334.6318359375, -35.5]\n",
      "35.5\n",
      "[-188.1318359375, -334.6318359375, -36.5]\n",
      "36.5\n",
      "[-188.1318359375, -334.6318359375, -45.5]\n",
      "45.5\n",
      "[-188.1318359375, -334.6318359375, -46.5]\n",
      "46.5\n",
      "[-188.1318359375, -334.6318359375, -55.5]\n",
      "55.5\n",
      "[-188.1318359375, -334.6318359375, -56.5]\n",
      "56.5\n",
      "[-188.1318359375, -334.6318359375, -65.5]\n",
      "65.5\n",
      "[-188.1318359375, -334.6318359375, -66.5]\n",
      "66.5\n",
      "[-188.1318359375, -334.6318359375, -75.5]\n",
      "75.5\n",
      "[-188.1318359375, -334.6318359375, -76.5]\n",
      "76.5\n",
      "[-188.1318359375, -334.6318359375, -85.5]\n",
      "85.5\n",
      "[-188.1318359375, -334.6318359375, -86.5]\n",
      "86.5\n",
      "[-188.1318359375, -334.6318359375, -95.5]\n",
      "95.5\n",
      "[-188.1318359375, -334.6318359375, -96.5]\n",
      "96.5\n",
      "[-188.1318359375, -334.6318359375, -105.5]\n",
      "105.5\n",
      "[-188.1318359375, -334.6318359375, -106.5]\n",
      "106.5\n",
      "[-188.1318359375, -334.6318359375, -115.5]\n",
      "115.5\n",
      "[-188.1318359375, -334.6318359375, -116.5]\n",
      "116.5\n",
      "[-188.1318359375, -334.6318359375, -125.5]\n",
      "125.5\n",
      "[-188.1318359375, -334.6318359375, -126.5]\n",
      "126.5\n",
      "[-188.1318359375, -334.6318359375, -135.5]\n",
      "135.5\n",
      "[-188.1318359375, -334.6318359375, -136.5]\n",
      "136.5\n",
      "[-188.1318359375, -334.6318359375, -145.5]\n",
      "145.5\n",
      "[-188.1318359375, -334.6318359375, -146.5]\n",
      "146.5\n",
      "[-188.1318359375, -334.6318359375, -155.5]\n",
      "155.5\n",
      "[-188.1318359375, -334.6318359375, -156.5]\n",
      "156.5\n",
      "[-188.1318359375, -334.6318359375, -165.5]\n",
      "165.5\n",
      "[-188.1318359375, -334.6318359375, -166.5]\n",
      "166.5\n",
      "[-188.1318359375, -334.6318359375, -175.5]\n",
      "175.5\n",
      "[-188.1318359375, -334.6318359375, -176.5]\n",
      "176.5\n",
      "[-188.1318359375, -334.6318359375, -185.5]\n",
      "185.5\n",
      "[-188.1318359375, -334.6318359375, -186.5]\n",
      "186.5\n",
      "[-188.1318359375, -334.6318359375, -195.5]\n",
      "195.5\n",
      "[-188.1318359375, -334.6318359375, -196.5]\n",
      "196.5\n",
      "[-188.1318359375, -334.6318359375, -205.5]\n",
      "205.5\n",
      "[-188.1318359375, -334.6318359375, -206.5]\n",
      "206.5\n",
      "[-188.1318359375, -334.6318359375, -215.5]\n",
      "215.5\n",
      "[-188.1318359375, -334.6318359375, -216.5]\n",
      "216.5\n",
      "[-188.1318359375, -334.6318359375, -225.5]\n",
      "225.5\n",
      "[-188.1318359375, -334.6318359375, -226.5]\n",
      "226.5\n",
      "[-188.1318359375, -334.6318359375, -235.5]\n",
      "235.5\n",
      "[-188.1318359375, -334.6318359375, -236.5]\n",
      "236.5\n",
      "[-188.1318359375, -334.6318359375, -245.5]\n",
      "245.5\n",
      "[-188.1318359375, -334.6318359375, -246.5]\n",
      "246.5\n"
     ]
    }
   ],
   "source": [
    "import os\n",
    "\n",
    "from pydicom import dcmread\n",
    "\n",
    "dcm_folder_path = r'C:\\Users\\tkim3\\Documents\\Codes\\ImageProcessing\\Scripts\\Temp\\dicom'\n",
    "dcm_output_path = r'C:\\Users\\tkim3\\Documents\\Codes\\ImageProcessing\\Scripts\\Temp\\dicom_output'\n",
    "\n",
    "prev = 0\n",
    "for dcm in os.listdir(dcm_folder_path):\n",
    "    dcm_slice_path = os.path.join(dcm_folder_path, dcm)\n",
    "    dcm_slice = dcmread(dcm_slice_path)\n",
    "    # print(dcm_slice.PixelSpacing)\n",
    "    # print(dcm_slice.SliceThickness)\n",
    "    print(dcm_slice.ImagePositionPatient)\n",
    "    print(dcm_slice.SliceLocation)\n",
    "    dcm_slice_output_path = os.path.join(dcm_output_path, dcm)\n",
    "    dcm_slice.save_as(dcm_slice_output_path)\n"
   ]
  },
  {
   "cell_type": "code",
   "execution_count": 2,
   "metadata": {},
   "outputs": [],
   "source": [
    "import gspread\n",
    "from dotenv import dotenv_values\n",
    "\n",
    "CONFIG = dotenv_values(\n",
    "    r\"C:\\Users\\tkim3\\Documents\\Codes\\ImageProcessing\\Scripts\\Util\\.env\"\n",
    ")\n",
    "GOOGLE_SA = gspread.service_account(filename=CONFIG[\"GOOGLE_TOKEN_PATH\"])\n",
    "QCTWORKSHEET = GOOGLE_SA.open_by_key(CONFIG[\"QCTWORKSHEET_GOOGLE_API_KEY\"])"
   ]
  },
  {
   "cell_type": "code",
   "execution_count": 5,
   "metadata": {},
   "outputs": [
    {
     "name": "stdout",
     "output_type": "stream",
     "text": [
      "{1875, 1876}\n",
      "2\n"
     ]
    }
   ],
   "source": [
    "subj_scan_list = QCTWORKSHEET.worksheet('C19').findall('C19KU2634')\n",
    "num_subj_scan = {subj.row for subj in subj_scan_list}\n",
    "print(num_subj_scan)\n",
    "print(len(num_subj_scan))"
   ]
  }
 ],
 "metadata": {
  "kernelspec": {
   "display_name": "Python 3.9.6 64-bit ('venv': venv)",
   "language": "python",
   "name": "python3"
  },
  "language_info": {
   "codemirror_mode": {
    "name": "ipython",
    "version": 3
   },
   "file_extension": ".py",
   "mimetype": "text/x-python",
   "name": "python",
   "nbconvert_exporter": "python",
   "pygments_lexer": "ipython3",
   "version": "3.9.6"
  },
  "orig_nbformat": 4,
  "vscode": {
   "interpreter": {
    "hash": "3c7a2a136e9d0a5a872b2f6826f94ff80995ea8acc48053ad65bcca6aedc86bc"
   }
  }
 },
 "nbformat": 4,
 "nbformat_minor": 2
}
